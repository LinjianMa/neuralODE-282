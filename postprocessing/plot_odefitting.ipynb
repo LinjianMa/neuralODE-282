{
 "cells": [
  {
   "cell_type": "code",
   "execution_count": null,
   "metadata": {},
   "outputs": [],
   "source": [
    "import pandas as pd\n",
    "import glob\n",
    "import numpy as np\n",
    "import re\n",
    "import os\n",
    "from matplotlib import pyplot as plt\n",
    "from IPython.display import DisplayObject, display\n",
    "import seaborn as sns"
   ]
  },
  {
   "cell_type": "code",
   "execution_count": null,
   "metadata": {},
   "outputs": [],
   "source": [
    "csv_files = glob.glob(\"../results_odefitting/linear/*.csv\")\n",
    "csv_files"
   ]
  },
  {
   "cell_type": "code",
   "execution_count": null,
   "metadata": {},
   "outputs": [],
   "source": [
    "df = {}\n",
    "for file in csv_files:\n",
    "    rel_path = os.path.relpath(file, '../results_odefitting/linear')\n",
    "    print(rel_path)\n",
    "    matches = re.search(r'^([a-zA-Z0-9.-]+)-([a-zA-Z0-9]+).csv', rel_path)\n",
    "    name = matches.group(1)\n",
    "    matches2 = re.search(r'^([a-zA-Z0-9]+)-([a-zA-Z0-9]+)-([a-zA-Z0-9]+).csv', rel_path)\n",
    "    name = matches.group(1)\n",
    "    model = matches2.group(1)\n",
    "    method = matches2.group(2)\n",
    "\n",
    "    print(name)\n",
    "    df[name] = pd.read_csv(file, \n",
    "        delimiter=' ',\n",
    "        skiprows=[0], \n",
    "        names=['epoch','train_loss'], \n",
    "        header=None)"
   ]
  },
  {
   "cell_type": "code",
   "execution_count": null,
   "metadata": {},
   "outputs": [],
   "source": [
    "plt.figure(figsize=(8, 5))\n",
    "sns.set(font_scale=1.3)\n",
    "\n",
    "for key, value in df.items():\n",
    "    sns.lineplot(x=\"epoch\", y=\"train_loss\", data=df[key], label=key, linewidth=3,)\n",
    "    plt.ylim((0,0.1))\n",
    "    plt.ylabel('loss')\n",
    "plt.savefig(f'linear.pdf')"
   ]
  },
  {
   "cell_type": "code",
   "execution_count": null,
   "metadata": {},
   "outputs": [],
   "source": []
  },
  {
   "cell_type": "code",
   "execution_count": null,
   "metadata": {},
   "outputs": [],
   "source": []
  },
  {
   "cell_type": "code",
   "execution_count": null,
   "metadata": {},
   "outputs": [],
   "source": []
  }
 ],
 "metadata": {
  "kernelspec": {
   "display_name": "Python 3",
   "language": "python",
   "name": "python3"
  },
  "language_info": {
   "codemirror_mode": {
    "name": "ipython",
    "version": 3
   },
   "file_extension": ".py",
   "mimetype": "text/x-python",
   "name": "python",
   "nbconvert_exporter": "python",
   "pygments_lexer": "ipython3",
   "version": "3.6.8"
  }
 },
 "nbformat": 4,
 "nbformat_minor": 2
}
